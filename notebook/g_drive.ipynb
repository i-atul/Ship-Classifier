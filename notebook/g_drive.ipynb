{
 "cells": [
  {
   "cell_type": "code",
   "execution_count": 10,
   "id": "b2207523",
   "metadata": {},
   "outputs": [],
   "source": [
    "import gdown"
   ]
  },
  {
   "cell_type": "code",
   "execution_count": 11,
   "id": "12e6a82b",
   "metadata": {},
   "outputs": [],
   "source": [
    "url =\"https://drive.google.com/file/d/1pqp5z5eJGh_USMSI5k9x8MSnWdAuOF9Z/view?usp=drive_link\""
   ]
  },
  {
   "cell_type": "code",
   "execution_count": 12,
   "id": "eae00c8c",
   "metadata": {},
   "outputs": [],
   "source": [
    "# Extract the file ID from the URL\n",
    "drive_id = url.split('/')[-2]  "
   ]
  },
  {
   "cell_type": "code",
   "execution_count": 13,
   "id": "97fc3306",
   "metadata": {},
   "outputs": [
    {
     "name": "stderr",
     "output_type": "stream",
     "text": [
      "Downloading...\n",
      "From: https://drive.google.com/uc?/export=download&id=1pqp5z5eJGh_USMSI5k9x8MSnWdAuOF9Z\n",
      "To: d:\\Project\\ml\\TradeVerifyAI\\notebook\\products.zip\n",
      "100%|██████████| 9.63M/9.63M [00:00<00:00, 9.94MB/s]\n"
     ]
    },
    {
     "data": {
      "text/plain": [
       "'products.zip'"
      ]
     },
     "execution_count": 13,
     "metadata": {},
     "output_type": "execute_result"
    }
   ],
   "source": [
    "prefix = 'https://drive.google.com/uc?/export=download&id='\n",
    "gdown.download(prefix + drive_id, 'products.zip')"
   ]
  }
 ],
 "metadata": {
  "kernelspec": {
   "display_name": ".venv",
   "language": "python",
   "name": "python3"
  },
  "language_info": {
   "codemirror_mode": {
    "name": "ipython",
    "version": 3
   },
   "file_extension": ".py",
   "mimetype": "text/x-python",
   "name": "python",
   "nbconvert_exporter": "python",
   "pygments_lexer": "ipython3",
   "version": "3.13.2"
  }
 },
 "nbformat": 4,
 "nbformat_minor": 5
}
